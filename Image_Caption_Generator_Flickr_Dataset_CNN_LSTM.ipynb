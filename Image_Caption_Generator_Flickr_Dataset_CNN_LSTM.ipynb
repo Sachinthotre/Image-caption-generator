{
  "metadata": {
    "kernelspec": {
      "language": "python",
      "display_name": "Python 3",
      "name": "python3"
    },
    "language_info": {
      "name": "python",
      "version": "3.7.12",
      "mimetype": "text/x-python",
      "codemirror_mode": {
        "name": "ipython",
        "version": 3
      },
      "pygments_lexer": "ipython3",
      "nbconvert_exporter": "python",
      "file_extension": ".py"
    },
    "colab": {
      "provenance": [],
      "include_colab_link": true
    }
  },
  "nbformat_minor": 0,
  "nbformat": 4,
  "cells": [
    {
      "cell_type": "markdown",
      "metadata": {
        "id": "view-in-github",
        "colab_type": "text"
      },
      "source": [
        "<a href=\"https://colab.research.google.com/github/Sachinthotre/Image-caption-generator/blob/main/Image_Caption_Generator_Flickr_Dataset_CNN_LSTM.ipynb\" target=\"_parent\"><img src=\"https://colab.research.google.com/assets/colab-badge.svg\" alt=\"Open In Colab\"/></a>"
      ]
    },
    {
      "cell_type": "markdown",
      "source": [
        "## Import Modules"
      ],
      "metadata": {
        "id": "jOPczV7GwdNt"
      }
    },
    {
      "cell_type": "code",
      "source": [
        "import os\n",
        "import pickle\n",
        "import numpy as np\n",
        "from tqdm.notebook import tqdm\n",
        "\n",
        "from tensorflow.keras.applications.vgg16 import VGG16, preprocess_input\n",
        "from tensorflow.keras.preprocessing.image import load_img, img_to_array\n",
        "from tensorflow.keras.preprocessing.text import Tokenizer\n",
        "from tensorflow.keras.preprocessing.sequence import pad_sequences\n",
        "from tensorflow.keras.models import Model\n",
        "from tensorflow.keras.utils import to_categorical, plot_model\n",
        "from tensorflow.keras.layers import Input, Dense, LSTM, Embedding, Dropout, add"
      ],
      "metadata": {
        "execution": {
          "iopub.status.busy": "2022-03-06T06:34:14.989864Z",
          "iopub.execute_input": "2022-03-06T06:34:14.990195Z",
          "iopub.status.idle": "2022-03-06T06:34:19.970661Z",
          "shell.execute_reply.started": "2022-03-06T06:34:14.990114Z",
          "shell.execute_reply": "2022-03-06T06:34:19.969956Z"
        },
        "trusted": true,
        "id": "GD4YjY8MwdNv"
      },
      "execution_count": null,
      "outputs": []
    },
    {
      "cell_type": "code",
      "source": [
        "BASE_DIR = '/kaggle/input/flickr8k'\n",
        "WORKING_DIR = '/kaggle/working'"
      ],
      "metadata": {
        "execution": {
          "iopub.status.busy": "2022-03-06T06:34:19.972303Z",
          "iopub.execute_input": "2022-03-06T06:34:19.972539Z",
          "iopub.status.idle": "2022-03-06T06:34:19.978812Z",
          "shell.execute_reply.started": "2022-03-06T06:34:19.972501Z",
          "shell.execute_reply": "2022-03-06T06:34:19.977587Z"
        },
        "trusted": true,
        "id": "nEYqNQo4wdNx"
      },
      "execution_count": null,
      "outputs": []
    },
    {
      "cell_type": "markdown",
      "source": [
        "## Extract Image Features"
      ],
      "metadata": {
        "id": "mdGOe32VwdNx"
      }
    },
    {
      "cell_type": "code",
      "source": [
        "# load vgg16 model\n",
        "model = VGG16()\n",
        "# restructure the model\n",
        "model = Model(inputs=model.inputs, outputs=model.layers[-2].output)\n",
        "# summarize\n",
        "print(model.summary())"
      ],
      "metadata": {
        "execution": {
          "iopub.status.busy": "2022-03-06T06:34:19.982057Z",
          "iopub.execute_input": "2022-03-06T06:34:19.982304Z",
          "iopub.status.idle": "2022-03-06T06:34:26.712594Z",
          "shell.execute_reply.started": "2022-03-06T06:34:19.982271Z",
          "shell.execute_reply": "2022-03-06T06:34:26.711913Z"
        },
        "trusted": true,
        "id": "SWGzFLbtwdNx",
        "outputId": "06ea5e38-517a-4035-b98b-e419dc44031d",
        "colab": {
          "base_uri": "https://localhost:8080/"
        }
      },
      "execution_count": null,
      "outputs": [
        {
          "output_type": "stream",
          "name": "stdout",
          "text": [
            "Model: \"model_1\"\n",
            "_________________________________________________________________\n",
            " Layer (type)                Output Shape              Param #   \n",
            "=================================================================\n",
            " input_2 (InputLayer)        [(None, 224, 224, 3)]     0         \n",
            "                                                                 \n",
            " block1_conv1 (Conv2D)       (None, 224, 224, 64)      1792      \n",
            "                                                                 \n",
            " block1_conv2 (Conv2D)       (None, 224, 224, 64)      36928     \n",
            "                                                                 \n",
            " block1_pool (MaxPooling2D)  (None, 112, 112, 64)      0         \n",
            "                                                                 \n",
            " block2_conv1 (Conv2D)       (None, 112, 112, 128)     73856     \n",
            "                                                                 \n",
            " block2_conv2 (Conv2D)       (None, 112, 112, 128)     147584    \n",
            "                                                                 \n",
            " block2_pool (MaxPooling2D)  (None, 56, 56, 128)       0         \n",
            "                                                                 \n",
            " block3_conv1 (Conv2D)       (None, 56, 56, 256)       295168    \n",
            "                                                                 \n",
            " block3_conv2 (Conv2D)       (None, 56, 56, 256)       590080    \n",
            "                                                                 \n",
            " block3_conv3 (Conv2D)       (None, 56, 56, 256)       590080    \n",
            "                                                                 \n",
            " block3_pool (MaxPooling2D)  (None, 28, 28, 256)       0         \n",
            "                                                                 \n",
            " block4_conv1 (Conv2D)       (None, 28, 28, 512)       1180160   \n",
            "                                                                 \n",
            " block4_conv2 (Conv2D)       (None, 28, 28, 512)       2359808   \n",
            "                                                                 \n",
            " block4_conv3 (Conv2D)       (None, 28, 28, 512)       2359808   \n",
            "                                                                 \n",
            " block4_pool (MaxPooling2D)  (None, 14, 14, 512)       0         \n",
            "                                                                 \n",
            " block5_conv1 (Conv2D)       (None, 14, 14, 512)       2359808   \n",
            "                                                                 \n",
            " block5_conv2 (Conv2D)       (None, 14, 14, 512)       2359808   \n",
            "                                                                 \n",
            " block5_conv3 (Conv2D)       (None, 14, 14, 512)       2359808   \n",
            "                                                                 \n",
            " block5_pool (MaxPooling2D)  (None, 7, 7, 512)         0         \n",
            "                                                                 \n",
            " flatten (Flatten)           (None, 25088)             0         \n",
            "                                                                 \n",
            " fc1 (Dense)                 (None, 4096)              102764544 \n",
            "                                                                 \n",
            " fc2 (Dense)                 (None, 4096)              16781312  \n",
            "                                                                 \n",
            "=================================================================\n",
            "Total params: 134,260,544\n",
            "Trainable params: 134,260,544\n",
            "Non-trainable params: 0\n",
            "_________________________________________________________________\n",
            "None\n"
          ]
        }
      ]
    },
    {
      "cell_type": "code",
      "source": [
        "# extract features from image\n",
        "features = {}\n",
        "directory = os.path.join(BASE_DIR, 'Images')\n",
        "\n",
        "for img_name in tqdm(os.listdir(directory)):\n",
        "    # load the image from file\n",
        "    img_path = directory + '/' + img_name\n",
        "    image = load_img(img_path, target_size=(224, 224))\n",
        "    # convert image pixels to numpy array\n",
        "    image = img_to_array(image)\n",
        "    # reshape data for model\n",
        "    image = image.reshape((1, image.shape[0], image.shape[1], image.shape[2]))\n",
        "    # preprocess image for vgg\n",
        "    image = preprocess_input(image)\n",
        "    # extract features\n",
        "    feature = model.predict(image, verbose=0)\n",
        "    # get image ID\n",
        "    image_id = img_name.split('.')[0]\n",
        "    # store feature\n",
        "    features[image_id] = feature"
      ],
      "metadata": {
        "execution": {
          "iopub.status.busy": "2022-03-06T06:34:26.713924Z",
          "iopub.execute_input": "2022-03-06T06:34:26.714171Z",
          "iopub.status.idle": "2022-03-06T06:42:34.816462Z",
          "shell.execute_reply.started": "2022-03-06T06:34:26.714138Z",
          "shell.execute_reply": "2022-03-06T06:42:34.815809Z"
        },
        "trusted": true,
        "id": "9K3aycGpwdNy",
        "outputId": "54b059a8-ca7f-4e96-ffac-01ba23027cf5",
        "colab": {
          "base_uri": "https://localhost:8080/",
          "height": 234
        }
      },
      "execution_count": null,
      "outputs": [
        {
          "output_type": "error",
          "ename": "FileNotFoundError",
          "evalue": "ignored",
          "traceback": [
            "\u001b[0;31m---------------------------------------------------------------------------\u001b[0m",
            "\u001b[0;31mFileNotFoundError\u001b[0m                         Traceback (most recent call last)",
            "\u001b[0;32m<ipython-input-8-fe101e2d8f50>\u001b[0m in \u001b[0;36m<module>\u001b[0;34m()\u001b[0m\n\u001b[1;32m      3\u001b[0m \u001b[0mdirectory\u001b[0m \u001b[0;34m=\u001b[0m \u001b[0mos\u001b[0m\u001b[0;34m.\u001b[0m\u001b[0mpath\u001b[0m\u001b[0;34m.\u001b[0m\u001b[0mjoin\u001b[0m\u001b[0;34m(\u001b[0m\u001b[0mBASE_DIR\u001b[0m\u001b[0;34m,\u001b[0m \u001b[0;34m'Images'\u001b[0m\u001b[0;34m)\u001b[0m\u001b[0;34m\u001b[0m\u001b[0;34m\u001b[0m\u001b[0m\n\u001b[1;32m      4\u001b[0m \u001b[0;34m\u001b[0m\u001b[0m\n\u001b[0;32m----> 5\u001b[0;31m \u001b[0;32mfor\u001b[0m \u001b[0mimg_name\u001b[0m \u001b[0;32min\u001b[0m \u001b[0mtqdm\u001b[0m\u001b[0;34m(\u001b[0m\u001b[0mos\u001b[0m\u001b[0;34m.\u001b[0m\u001b[0mlistdir\u001b[0m\u001b[0;34m(\u001b[0m\u001b[0mdirectory\u001b[0m\u001b[0;34m)\u001b[0m\u001b[0;34m)\u001b[0m\u001b[0;34m:\u001b[0m\u001b[0;34m\u001b[0m\u001b[0;34m\u001b[0m\u001b[0m\n\u001b[0m\u001b[1;32m      6\u001b[0m     \u001b[0;31m# load the image from file\u001b[0m\u001b[0;34m\u001b[0m\u001b[0;34m\u001b[0m\u001b[0;34m\u001b[0m\u001b[0m\n\u001b[1;32m      7\u001b[0m     \u001b[0mimg_path\u001b[0m \u001b[0;34m=\u001b[0m \u001b[0mdirectory\u001b[0m \u001b[0;34m+\u001b[0m \u001b[0;34m'/'\u001b[0m \u001b[0;34m+\u001b[0m \u001b[0mimg_name\u001b[0m\u001b[0;34m\u001b[0m\u001b[0;34m\u001b[0m\u001b[0m\n",
            "\u001b[0;31mFileNotFoundError\u001b[0m: [Errno 2] No such file or directory: '/kaggle/input/flickr8k/Images'"
          ]
        }
      ]
    },
    {
      "cell_type": "code",
      "source": [
        "# store features in pickle\n",
        "pickle.dump(features, open(os.path.join(WORKING_DIR, 'features.pkl'), 'wb'))"
      ],
      "metadata": {
        "execution": {
          "iopub.status.busy": "2022-03-06T06:42:34.818823Z",
          "iopub.execute_input": "2022-03-06T06:42:34.819143Z",
          "iopub.status.idle": "2022-03-06T06:42:35.148181Z",
          "shell.execute_reply.started": "2022-03-06T06:42:34.819101Z",
          "shell.execute_reply": "2022-03-06T06:42:35.147422Z"
        },
        "trusted": true,
        "id": "s_A4xgEawdNz"
      },
      "execution_count": null,
      "outputs": []
    },
    {
      "cell_type": "code",
      "source": [
        "# load features from pickle\n",
        "with open(os.path.join(WORKING_DIR, 'features.pkl'), 'rb') as f:\n",
        "    features = pickle.load(f)"
      ],
      "metadata": {
        "execution": {
          "iopub.status.busy": "2022-03-06T06:42:35.149415Z",
          "iopub.execute_input": "2022-03-06T06:42:35.150092Z",
          "iopub.status.idle": "2022-03-06T06:42:35.312615Z",
          "shell.execute_reply.started": "2022-03-06T06:42:35.150052Z",
          "shell.execute_reply": "2022-03-06T06:42:35.311884Z"
        },
        "trusted": true,
        "id": "o52-f5K-wdNz"
      },
      "execution_count": null,
      "outputs": []
    },
    {
      "cell_type": "markdown",
      "source": [
        "## Load the Captions Data"
      ],
      "metadata": {
        "id": "dc6T7QlEwdNz"
      }
    },
    {
      "cell_type": "code",
      "source": [
        "with open(os.path.join(BASE_DIR, 'captions.txt'), 'r') as f:\n",
        "    next(f)\n",
        "    captions_doc = f.read()"
      ],
      "metadata": {
        "execution": {
          "iopub.status.busy": "2022-03-06T06:42:35.314779Z",
          "iopub.execute_input": "2022-03-06T06:42:35.315520Z",
          "iopub.status.idle": "2022-03-06T06:42:35.378135Z",
          "shell.execute_reply.started": "2022-03-06T06:42:35.315478Z",
          "shell.execute_reply": "2022-03-06T06:42:35.377462Z"
        },
        "trusted": true,
        "id": "b2_hWIjOwdN0"
      },
      "execution_count": null,
      "outputs": []
    },
    {
      "cell_type": "code",
      "source": [
        "# create mapping of image to captions\n",
        "mapping = {}\n",
        "# process lines\n",
        "for line in tqdm(captions_doc.split('\\n')):\n",
        "    # split the line by comma(,)\n",
        "    tokens = line.split(',')\n",
        "    if len(line) < 2:\n",
        "        continue\n",
        "    image_id, caption = tokens[0], tokens[1:]\n",
        "    # remove extension from image ID\n",
        "    image_id = image_id.split('.')[0]\n",
        "    # convert caption list to string\n",
        "    caption = \" \".join(caption)\n",
        "    # create list if needed\n",
        "    if image_id not in mapping:\n",
        "        mapping[image_id] = []\n",
        "    # store the caption\n",
        "    mapping[image_id].append(caption)"
      ],
      "metadata": {
        "execution": {
          "iopub.status.busy": "2022-03-06T06:42:35.379546Z",
          "iopub.execute_input": "2022-03-06T06:42:35.379822Z",
          "iopub.status.idle": "2022-03-06T06:42:35.520768Z",
          "shell.execute_reply.started": "2022-03-06T06:42:35.379783Z",
          "shell.execute_reply": "2022-03-06T06:42:35.520076Z"
        },
        "trusted": true,
        "id": "t8X__SxNwdN0"
      },
      "execution_count": null,
      "outputs": []
    },
    {
      "cell_type": "code",
      "source": [
        "len(mapping)"
      ],
      "metadata": {
        "execution": {
          "iopub.status.busy": "2022-03-06T06:42:35.522031Z",
          "iopub.execute_input": "2022-03-06T06:42:35.522414Z",
          "iopub.status.idle": "2022-03-06T06:42:35.530158Z",
          "shell.execute_reply.started": "2022-03-06T06:42:35.522377Z",
          "shell.execute_reply": "2022-03-06T06:42:35.529170Z"
        },
        "trusted": true,
        "id": "Ca9fRgiswdN1"
      },
      "execution_count": null,
      "outputs": []
    },
    {
      "cell_type": "markdown",
      "source": [
        "## Preprocess Text Data"
      ],
      "metadata": {
        "id": "_NglWX99wdN1"
      }
    },
    {
      "cell_type": "code",
      "source": [
        "def clean(mapping):\n",
        "    for key, captions in mapping.items():\n",
        "        for i in range(len(captions)):\n",
        "            # take one caption at a time\n",
        "            caption = captions[i]\n",
        "            # preprocessing steps\n",
        "            # convert to lowercase\n",
        "            caption = caption.lower()\n",
        "            # delete digits, special chars, etc.,\n",
        "            caption = caption.replace('[^A-Za-z]', '')\n",
        "            # delete additional spaces\n",
        "            caption = caption.replace('\\s+', ' ')\n",
        "            # add start and end tags to the caption\n",
        "            caption = 'startseq ' + \" \".join([word for word in caption.split() if len(word)>1]) + ' endseq'\n",
        "            captions[i] = caption"
      ],
      "metadata": {
        "execution": {
          "iopub.status.busy": "2022-03-06T06:42:35.531417Z",
          "iopub.execute_input": "2022-03-06T06:42:35.531789Z",
          "iopub.status.idle": "2022-03-06T06:42:35.539936Z",
          "shell.execute_reply.started": "2022-03-06T06:42:35.531753Z",
          "shell.execute_reply": "2022-03-06T06:42:35.539143Z"
        },
        "trusted": true,
        "id": "_xx1hIthwdN1"
      },
      "execution_count": null,
      "outputs": []
    },
    {
      "cell_type": "code",
      "source": [
        "# before preprocess of text\n",
        "mapping['1000268201_693b08cb0e']"
      ],
      "metadata": {
        "execution": {
          "iopub.status.busy": "2022-03-06T06:42:35.541482Z",
          "iopub.execute_input": "2022-03-06T06:42:35.541972Z",
          "iopub.status.idle": "2022-03-06T06:42:35.550972Z",
          "shell.execute_reply.started": "2022-03-06T06:42:35.541937Z",
          "shell.execute_reply": "2022-03-06T06:42:35.549978Z"
        },
        "trusted": true,
        "id": "Gdc0FkhiwdN2"
      },
      "execution_count": null,
      "outputs": []
    },
    {
      "cell_type": "code",
      "source": [
        "# preprocess the text\n",
        "clean(mapping)"
      ],
      "metadata": {
        "execution": {
          "iopub.status.busy": "2022-03-06T06:42:35.552825Z",
          "iopub.execute_input": "2022-03-06T06:42:35.553409Z",
          "iopub.status.idle": "2022-03-06T06:42:35.692145Z",
          "shell.execute_reply.started": "2022-03-06T06:42:35.553368Z",
          "shell.execute_reply": "2022-03-06T06:42:35.691520Z"
        },
        "trusted": true,
        "id": "ts8ziygswdN2"
      },
      "execution_count": null,
      "outputs": []
    },
    {
      "cell_type": "code",
      "source": [
        "# after preprocess of text\n",
        "mapping['1000268201_693b08cb0e']"
      ],
      "metadata": {
        "execution": {
          "iopub.status.busy": "2022-03-06T06:42:35.693412Z",
          "iopub.execute_input": "2022-03-06T06:42:35.693654Z",
          "iopub.status.idle": "2022-03-06T06:42:35.698691Z",
          "shell.execute_reply.started": "2022-03-06T06:42:35.693623Z",
          "shell.execute_reply": "2022-03-06T06:42:35.697951Z"
        },
        "trusted": true,
        "id": "Q54LmpykwdN2"
      },
      "execution_count": null,
      "outputs": []
    },
    {
      "cell_type": "code",
      "source": [
        "all_captions = []\n",
        "for key in mapping:\n",
        "    for caption in mapping[key]:\n",
        "        all_captions.append(caption)"
      ],
      "metadata": {
        "execution": {
          "iopub.status.busy": "2022-03-06T06:42:35.703176Z",
          "iopub.execute_input": "2022-03-06T06:42:35.703681Z",
          "iopub.status.idle": "2022-03-06T06:42:35.716917Z",
          "shell.execute_reply.started": "2022-03-06T06:42:35.703644Z",
          "shell.execute_reply": "2022-03-06T06:42:35.716311Z"
        },
        "trusted": true,
        "id": "8RLU5d_WwdN3"
      },
      "execution_count": null,
      "outputs": []
    },
    {
      "cell_type": "code",
      "source": [
        "len(all_captions)"
      ],
      "metadata": {
        "execution": {
          "iopub.status.busy": "2022-03-06T06:42:35.719667Z",
          "iopub.execute_input": "2022-03-06T06:42:35.719878Z",
          "iopub.status.idle": "2022-03-06T06:42:35.728236Z",
          "shell.execute_reply.started": "2022-03-06T06:42:35.719843Z",
          "shell.execute_reply": "2022-03-06T06:42:35.727288Z"
        },
        "trusted": true,
        "id": "05_4V6XOwdN3"
      },
      "execution_count": null,
      "outputs": []
    },
    {
      "cell_type": "code",
      "source": [
        "all_captions[:10]"
      ],
      "metadata": {
        "execution": {
          "iopub.status.busy": "2022-03-06T06:42:35.730058Z",
          "iopub.execute_input": "2022-03-06T06:42:35.730327Z",
          "iopub.status.idle": "2022-03-06T06:42:35.737755Z",
          "shell.execute_reply.started": "2022-03-06T06:42:35.730295Z",
          "shell.execute_reply": "2022-03-06T06:42:35.736976Z"
        },
        "trusted": true,
        "id": "11vEURM0wdN3"
      },
      "execution_count": null,
      "outputs": []
    },
    {
      "cell_type": "code",
      "source": [
        "# tokenize the text\n",
        "tokenizer = Tokenizer()\n",
        "tokenizer.fit_on_texts(all_captions)\n",
        "vocab_size = len(tokenizer.word_index) + 1"
      ],
      "metadata": {
        "execution": {
          "iopub.status.busy": "2022-03-06T06:42:35.739327Z",
          "iopub.execute_input": "2022-03-06T06:42:35.739724Z",
          "iopub.status.idle": "2022-03-06T06:42:36.355776Z",
          "shell.execute_reply.started": "2022-03-06T06:42:35.739686Z",
          "shell.execute_reply": "2022-03-06T06:42:36.355062Z"
        },
        "trusted": true,
        "id": "DusApnqtwdN4"
      },
      "execution_count": null,
      "outputs": []
    },
    {
      "cell_type": "code",
      "source": [
        "vocab_size"
      ],
      "metadata": {
        "execution": {
          "iopub.status.busy": "2022-03-06T06:42:36.357182Z",
          "iopub.execute_input": "2022-03-06T06:42:36.357418Z",
          "iopub.status.idle": "2022-03-06T06:42:36.362429Z",
          "shell.execute_reply.started": "2022-03-06T06:42:36.357385Z",
          "shell.execute_reply": "2022-03-06T06:42:36.361793Z"
        },
        "trusted": true,
        "id": "AQBKUJm6wdN4"
      },
      "execution_count": null,
      "outputs": []
    },
    {
      "cell_type": "code",
      "source": [
        "# get maximum length of the caption available\n",
        "max_length = max(len(caption.split()) for caption in all_captions)\n",
        "max_length"
      ],
      "metadata": {
        "execution": {
          "iopub.status.busy": "2022-03-06T06:42:36.363844Z",
          "iopub.execute_input": "2022-03-06T06:42:36.364347Z",
          "iopub.status.idle": "2022-03-06T06:42:36.403655Z",
          "shell.execute_reply.started": "2022-03-06T06:42:36.364309Z",
          "shell.execute_reply": "2022-03-06T06:42:36.402785Z"
        },
        "trusted": true,
        "id": "jdxdRViFwdN4"
      },
      "execution_count": null,
      "outputs": []
    },
    {
      "cell_type": "markdown",
      "source": [
        "## Train Test Split"
      ],
      "metadata": {
        "id": "7SeAasHXwdN5"
      }
    },
    {
      "cell_type": "code",
      "source": [
        "image_ids = list(mapping.keys())\n",
        "split = int(len(image_ids) * 0.90)\n",
        "train = image_ids[:split]\n",
        "test = image_ids[split:]"
      ],
      "metadata": {
        "execution": {
          "iopub.status.busy": "2022-03-06T06:42:36.405019Z",
          "iopub.execute_input": "2022-03-06T06:42:36.406025Z",
          "iopub.status.idle": "2022-03-06T06:42:36.411229Z",
          "shell.execute_reply.started": "2022-03-06T06:42:36.405987Z",
          "shell.execute_reply": "2022-03-06T06:42:36.410251Z"
        },
        "trusted": true,
        "id": "Rfkw9dNawdN5"
      },
      "execution_count": null,
      "outputs": []
    },
    {
      "cell_type": "code",
      "source": [
        "# startseq girl going into wooden building endseq\n",
        "#        X                   y\n",
        "# startseq                   girl\n",
        "# startseq girl              going\n",
        "# startseq girl going        into\n",
        "# ...........\n",
        "# startseq girl going into wooden building      endseq"
      ],
      "metadata": {
        "execution": {
          "iopub.status.busy": "2022-03-06T06:42:36.412818Z",
          "iopub.execute_input": "2022-03-06T06:42:36.413094Z",
          "iopub.status.idle": "2022-03-06T06:42:36.420669Z",
          "shell.execute_reply.started": "2022-03-06T06:42:36.413060Z",
          "shell.execute_reply": "2022-03-06T06:42:36.419873Z"
        },
        "trusted": true,
        "id": "QzwXB0p9wdN5"
      },
      "execution_count": null,
      "outputs": []
    },
    {
      "cell_type": "code",
      "source": [
        "# create data generator to get data in batch (avoids session crash)\n",
        "def data_generator(data_keys, mapping, features, tokenizer, max_length, vocab_size, batch_size):\n",
        "    # loop over images\n",
        "    X1, X2, y = list(), list(), list()\n",
        "    n = 0\n",
        "    while 1:\n",
        "        for key in data_keys:\n",
        "            n += 1\n",
        "            captions = mapping[key]\n",
        "            # process each caption\n",
        "            for caption in captions:\n",
        "                # encode the sequence\n",
        "                seq = tokenizer.texts_to_sequences([caption])[0]\n",
        "                # split the sequence into X, y pairs\n",
        "                for i in range(1, len(seq)):\n",
        "                    # split into input and output pairs\n",
        "                    in_seq, out_seq = seq[:i], seq[i]\n",
        "                    # pad input sequence\n",
        "                    in_seq = pad_sequences([in_seq], maxlen=max_length)[0]\n",
        "                    # encode output sequence\n",
        "                    out_seq = to_categorical([out_seq], num_classes=vocab_size)[0]\n",
        "\n",
        "                    # store the sequences\n",
        "                    X1.append(features[key][0])\n",
        "                    X2.append(in_seq)\n",
        "                    y.append(out_seq)\n",
        "            if n == batch_size:\n",
        "                X1, X2, y = np.array(X1), np.array(X2), np.array(y)\n",
        "                yield [X1, X2], y\n",
        "                X1, X2, y = list(), list(), list()\n",
        "                n = 0"
      ],
      "metadata": {
        "execution": {
          "iopub.status.busy": "2022-03-06T06:42:36.422033Z",
          "iopub.execute_input": "2022-03-06T06:42:36.422292Z",
          "iopub.status.idle": "2022-03-06T06:42:36.434535Z",
          "shell.execute_reply.started": "2022-03-06T06:42:36.422261Z",
          "shell.execute_reply": "2022-03-06T06:42:36.433711Z"
        },
        "trusted": true,
        "id": "vdmHgT69wdN5"
      },
      "execution_count": null,
      "outputs": []
    },
    {
      "cell_type": "markdown",
      "source": [
        "## Model Creation"
      ],
      "metadata": {
        "id": "o5JrjPHkwdN5"
      }
    },
    {
      "cell_type": "code",
      "source": [
        "# encoder model\n",
        "# image feature layers\n",
        "inputs1 = Input(shape=(4096,))\n",
        "fe1 = Dropout(0.4)(inputs1)\n",
        "fe2 = Dense(256, activation='relu')(fe1)\n",
        "# sequence feature layers\n",
        "inputs2 = Input(shape=(max_length,))\n",
        "se1 = Embedding(vocab_size, 256, mask_zero=True)(inputs2)\n",
        "se2 = Dropout(0.4)(se1)\n",
        "se3 = LSTM(256)(se2)\n",
        "\n",
        "# decoder model\n",
        "decoder1 = add([fe2, se3])\n",
        "decoder2 = Dense(256, activation='relu')(decoder1)\n",
        "outputs = Dense(vocab_size, activation='softmax')(decoder2)\n",
        "\n",
        "model = Model(inputs=[inputs1, inputs2], outputs=outputs)\n",
        "model.compile(loss='categorical_crossentropy', optimizer='adam')\n",
        "\n",
        "# plot the model\n",
        "plot_model(model, show_shapes=True)"
      ],
      "metadata": {
        "execution": {
          "iopub.status.busy": "2022-03-06T06:42:36.435684Z",
          "iopub.execute_input": "2022-03-06T06:42:36.435949Z",
          "iopub.status.idle": "2022-03-06T06:42:38.472355Z",
          "shell.execute_reply.started": "2022-03-06T06:42:36.435912Z",
          "shell.execute_reply": "2022-03-06T06:42:38.469216Z"
        },
        "trusted": true,
        "id": "GOn6HyP1wdN6"
      },
      "execution_count": null,
      "outputs": []
    },
    {
      "cell_type": "code",
      "source": [
        "# train the model\n",
        "epochs = 20\n",
        "batch_size = 32\n",
        "steps = len(train) // batch_size\n",
        "\n",
        "for i in range(epochs):\n",
        "    # create data generator\n",
        "    generator = data_generator(train, mapping, features, tokenizer, max_length, vocab_size, batch_size)\n",
        "    # fit for one epoch\n",
        "    model.fit(generator, epochs=1, steps_per_epoch=steps, verbose=1)"
      ],
      "metadata": {
        "execution": {
          "iopub.status.busy": "2022-03-06T06:42:38.474040Z",
          "iopub.execute_input": "2022-03-06T06:42:38.474530Z",
          "iopub.status.idle": "2022-03-06T07:06:15.926491Z",
          "shell.execute_reply.started": "2022-03-06T06:42:38.474487Z",
          "shell.execute_reply": "2022-03-06T07:06:15.925776Z"
        },
        "trusted": true,
        "id": "wT_gyumawdN6"
      },
      "execution_count": null,
      "outputs": []
    },
    {
      "cell_type": "code",
      "source": [
        "# save the model\n",
        "model.save(WORKING_DIR+'/best_model.h5')"
      ],
      "metadata": {
        "execution": {
          "iopub.status.busy": "2022-03-06T07:06:15.927965Z",
          "iopub.execute_input": "2022-03-06T07:06:15.928220Z",
          "iopub.status.idle": "2022-03-06T07:06:16.090583Z",
          "shell.execute_reply.started": "2022-03-06T07:06:15.928186Z",
          "shell.execute_reply": "2022-03-06T07:06:16.088709Z"
        },
        "trusted": true,
        "id": "goOvtMl8wdN7"
      },
      "execution_count": null,
      "outputs": []
    },
    {
      "cell_type": "markdown",
      "source": [
        "## Generate Captions for the Image"
      ],
      "metadata": {
        "id": "n-guStyzwdN7"
      }
    },
    {
      "cell_type": "code",
      "source": [
        "def idx_to_word(integer, tokenizer):\n",
        "    for word, index in tokenizer.word_index.items():\n",
        "        if index == integer:\n",
        "            return word\n",
        "    return None"
      ],
      "metadata": {
        "execution": {
          "iopub.status.busy": "2022-03-06T07:06:16.092736Z",
          "iopub.execute_input": "2022-03-06T07:06:16.093448Z",
          "iopub.status.idle": "2022-03-06T07:06:16.100031Z",
          "shell.execute_reply.started": "2022-03-06T07:06:16.093377Z",
          "shell.execute_reply": "2022-03-06T07:06:16.098267Z"
        },
        "trusted": true,
        "id": "tREfYt2cwdN7"
      },
      "execution_count": null,
      "outputs": []
    },
    {
      "cell_type": "code",
      "source": [
        "# generate caption for an image\n",
        "def predict_caption(model, image, tokenizer, max_length):\n",
        "    # add start tag for generation process\n",
        "    in_text = 'startseq'\n",
        "    # iterate over the max length of sequence\n",
        "    for i in range(max_length):\n",
        "        # encode input sequence\n",
        "        sequence = tokenizer.texts_to_sequences([in_text])[0]\n",
        "        # pad the sequence\n",
        "        sequence = pad_sequences([sequence], max_length)\n",
        "        # predict next word\n",
        "        yhat = model.predict([image, sequence], verbose=0)\n",
        "        # get index with high probability\n",
        "        yhat = np.argmax(yhat)\n",
        "        # convert index to word\n",
        "        word = idx_to_word(yhat, tokenizer)\n",
        "        # stop if word not found\n",
        "        if word is None:\n",
        "            break\n",
        "        # append word as input for generating next word\n",
        "        in_text += \" \" + word\n",
        "        # stop if we reach end tag\n",
        "        if word == 'endseq':\n",
        "            break\n",
        "\n",
        "    return in_text"
      ],
      "metadata": {
        "execution": {
          "iopub.status.busy": "2022-03-06T07:06:16.102398Z",
          "iopub.execute_input": "2022-03-06T07:06:16.108028Z",
          "iopub.status.idle": "2022-03-06T07:06:16.122532Z",
          "shell.execute_reply.started": "2022-03-06T07:06:16.107982Z",
          "shell.execute_reply": "2022-03-06T07:06:16.121669Z"
        },
        "trusted": true,
        "id": "wcHG3KvhwdN7"
      },
      "execution_count": null,
      "outputs": []
    },
    {
      "cell_type": "code",
      "source": [
        "from nltk.translate.bleu_score import corpus_bleu\n",
        "# validate with test data\n",
        "actual, predicted = list(), list()\n",
        "\n",
        "for key in tqdm(test):\n",
        "    # get actual caption\n",
        "    captions = mapping[key]\n",
        "    # predict the caption for image\n",
        "    y_pred = predict_caption(model, features[key], tokenizer, max_length)\n",
        "    # split into words\n",
        "    actual_captions = [caption.split() for caption in captions]\n",
        "    y_pred = y_pred.split()\n",
        "    # append to the list\n",
        "    actual.append(actual_captions)\n",
        "    predicted.append(y_pred)\n",
        "\n",
        "# calcuate BLEU score\n",
        "print(\"BLEU-1: %f\" % corpus_bleu(actual, predicted, weights=(1.0, 0, 0, 0)))\n",
        "print(\"BLEU-2: %f\" % corpus_bleu(actual, predicted, weights=(0.5, 0.5, 0, 0)))"
      ],
      "metadata": {
        "execution": {
          "iopub.status.busy": "2022-03-06T07:06:16.123749Z",
          "iopub.execute_input": "2022-03-06T07:06:16.124177Z",
          "iopub.status.idle": "2022-03-06T07:12:27.075826Z",
          "shell.execute_reply.started": "2022-03-06T07:06:16.124139Z",
          "shell.execute_reply": "2022-03-06T07:12:27.075089Z"
        },
        "trusted": true,
        "id": "17Y2Eq0OwdN8"
      },
      "execution_count": null,
      "outputs": []
    },
    {
      "cell_type": "markdown",
      "source": [
        "## Visualize the Results"
      ],
      "metadata": {
        "id": "ezPmop10wdN8"
      }
    },
    {
      "cell_type": "code",
      "source": [
        "from PIL import Image\n",
        "import matplotlib.pyplot as plt\n",
        "def generate_caption(image_name):\n",
        "    # load the image\n",
        "    # image_name = \"1001773457_577c3a7d70.jpg\"\n",
        "    image_id = image_name.split('.')[0]\n",
        "    img_path = os.path.join(BASE_DIR, \"Images\", image_name)\n",
        "    image = Image.open(img_path)\n",
        "    captions = mapping[image_id]\n",
        "    print('---------------------Actual---------------------')\n",
        "    for caption in captions:\n",
        "        print(caption)\n",
        "    # predict the caption\n",
        "    y_pred = predict_caption(model, features[image_id], tokenizer, max_length)\n",
        "    print('--------------------Predicted--------------------')\n",
        "    print(y_pred)\n",
        "    plt.imshow(image)"
      ],
      "metadata": {
        "execution": {
          "iopub.status.busy": "2022-03-06T07:12:27.077132Z",
          "iopub.execute_input": "2022-03-06T07:12:27.077550Z",
          "iopub.status.idle": "2022-03-06T07:12:27.084620Z",
          "shell.execute_reply.started": "2022-03-06T07:12:27.077509Z",
          "shell.execute_reply": "2022-03-06T07:12:27.083943Z"
        },
        "trusted": true,
        "id": "0bf1fhkBwdN8"
      },
      "execution_count": null,
      "outputs": []
    },
    {
      "cell_type": "code",
      "source": [
        "generate_caption(\"1001773457_577c3a7d70.jpg\")"
      ],
      "metadata": {
        "execution": {
          "iopub.status.busy": "2022-03-06T07:12:27.085839Z",
          "iopub.execute_input": "2022-03-06T07:12:27.086378Z",
          "iopub.status.idle": "2022-03-06T07:12:27.811836Z",
          "shell.execute_reply.started": "2022-03-06T07:12:27.086340Z",
          "shell.execute_reply": "2022-03-06T07:12:27.811100Z"
        },
        "trusted": true,
        "id": "Gz1NljLVwdN9"
      },
      "execution_count": null,
      "outputs": []
    },
    {
      "cell_type": "code",
      "source": [
        "generate_caption(\"1002674143_1b742ab4b8.jpg\")"
      ],
      "metadata": {
        "execution": {
          "iopub.status.busy": "2022-03-06T07:12:27.812965Z",
          "iopub.execute_input": "2022-03-06T07:12:27.813391Z",
          "iopub.status.idle": "2022-03-06T07:12:28.645372Z",
          "shell.execute_reply.started": "2022-03-06T07:12:27.813352Z",
          "shell.execute_reply": "2022-03-06T07:12:28.644695Z"
        },
        "trusted": true,
        "id": "zhr71uLewdN9"
      },
      "execution_count": null,
      "outputs": []
    },
    {
      "cell_type": "code",
      "source": [
        "generate_caption(\"101669240_b2d3e7f17b.jpg\")"
      ],
      "metadata": {
        "execution": {
          "iopub.status.busy": "2022-03-06T07:12:28.646519Z",
          "iopub.execute_input": "2022-03-06T07:12:28.647257Z",
          "iopub.status.idle": "2022-03-06T07:12:29.247604Z",
          "shell.execute_reply.started": "2022-03-06T07:12:28.647219Z",
          "shell.execute_reply": "2022-03-06T07:12:29.246938Z"
        },
        "trusted": true,
        "id": "LR7FDfWmwdN9"
      },
      "execution_count": null,
      "outputs": []
    },
    {
      "cell_type": "code",
      "source": [],
      "metadata": {
        "id": "Uu7vZooSwdN9"
      },
      "execution_count": null,
      "outputs": []
    },
    {
      "cell_type": "code",
      "source": [],
      "metadata": {
        "id": "C42XZVEywdN9"
      },
      "execution_count": null,
      "outputs": []
    },
    {
      "cell_type": "code",
      "source": [],
      "metadata": {
        "id": "6FREDuNAwdN9"
      },
      "execution_count": null,
      "outputs": []
    },
    {
      "cell_type": "code",
      "source": [],
      "metadata": {
        "id": "G34A2ay3wdN9"
      },
      "execution_count": null,
      "outputs": []
    },
    {
      "cell_type": "code",
      "source": [],
      "metadata": {
        "id": "v7LEMOLOwdN9"
      },
      "execution_count": null,
      "outputs": []
    }
  ]
}